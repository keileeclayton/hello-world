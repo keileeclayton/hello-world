{
 "cells": [
  {
   "cell_type": "markdown",
   "metadata": {},
   "source": [
    "Homework 4: Part 1"
   ]
  },
  {
   "cell_type": "code",
   "execution_count": 1,
   "metadata": {},
   "outputs": [],
   "source": [
    "a = False #boolean \n",
    "b = 3.7 #float point\n",
    "c = 'Alex' #string\n",
    "d = 7 #integer\n",
    "e = 'True' #string\n",
    "f = 17 #integer\n",
    "g = '17' #string\n",
    "h = True #boolean\n",
    "i = '3.14159' #string"
   ]
  },
  {
   "cell_type": "code",
   "execution_count": 6,
   "metadata": {},
   "outputs": [
    {
     "name": "stdout",
     "output_type": "stream",
     "text": [
      "10\n",
      "5\n",
      "6\n",
      "6\n",
      "3\n",
      "4\n",
      "4\n",
      "2\n"
     ]
    }
   ],
   "source": [
    "#Ben Bitdiddles program \n",
    "i = 10\n",
    "\n",
    "while i > 1:\n",
    "    print(i)\n",
    "    if i%2 ==0: #if remainder from i/2 is 0 \n",
    "        i = i//2 #integer division\n",
    "    else:\n",
    "        i = i + 1\n",
    "        print(i)\n"
   ]
  },
  {
   "cell_type": "markdown",
   "metadata": {},
   "source": [
    "Binary Search "
   ]
  },
  {
   "cell_type": "code",
   "execution_count": 9,
   "metadata": {},
   "outputs": [
    {
     "name": "stdout",
     "output_type": "stream",
     "text": [
      "14 is at index 7\n"
     ]
    }
   ],
   "source": [
    "from math import floor\n",
    "\n",
    "def binary_search(Array, Search_Term):\n",
    "    n = len(Array)\n",
    "    L = 0\n",
    "    R = n-1\n",
    "    \n",
    "    while L <= R:\n",
    "        mid = floor((L+R)/2)\n",
    "        if Array[mid] < Search_Term:\n",
    "            L = mid + 1\n",
    "        elif Array[mid] > Search_Term:\n",
    "            R = mid - 1\n",
    "        else:\n",
    "            return mid\n",
    "    return -1\n",
    "\n",
    "# Insert your array here\n",
    "A = [1,2,3,4,7,9,12,14,18]\n",
    "# term to be searched\n",
    "term = 14\n",
    "index = binary_search(A, term)\n",
    "if index >= 0:\n",
    "    print(\"{} is at index {}\".format(A[index], index))\n",
    "else:\n",
    "    print(\"Search term not found\")"
   ]
  },
  {
   "cell_type": "code",
   "execution_count": 16,
   "metadata": {},
   "outputs": [
    {
     "name": "stdout",
     "output_type": "stream",
     "text": [
      "Think of a number between 1 and 100, but don't tell me what you choose.\n",
      "Is it51?higher\n",
      "Is it76?lower\n",
      "Is it64?lower\n",
      "Is it58?higher\n",
      "Is it61?higher\n",
      "Is it63?lower\n",
      "Is it62?yes\n",
      "Woohoo! I got it!\n"
     ]
    }
   ],
   "source": [
    "#mystery code\n",
    "\n",
    "print(\"Think of a number between 1 and 100, but don't tell me what you choose.\")\n",
    "min_n= 1\n",
    "max_n= 100\n",
    "right_answer = False \n",
    "\n",
    "while not right_answer:\n",
    "    mid_n = (max_n + min_n + 1)//2\n",
    "    answer= input(\"Is it\"+ str(mid_n) + \"?\")\n",
    "    if answer[0] ==\"y\" :\n",
    "        right_answer = True\n",
    "    elif answer.startswith(\"higher\"):\n",
    "        min_n = mid_n + 1\n",
    "    elif answer.startswith(\"lower\"):\n",
    "        max_n = mid_n -1 \n",
    "    else:\n",
    "        print(\"Sorry, I don't understand your answer.\")\n",
    "\n",
    "print('Woohoo! I got it!')\n",
    "        \n",
    "    "
   ]
  },
  {
   "cell_type": "code",
   "execution_count": null,
   "metadata": {},
   "outputs": [],
   "source": []
  },
  {
   "cell_type": "code",
   "execution_count": null,
   "metadata": {},
   "outputs": [],
   "source": []
  }
 ],
 "metadata": {
  "kernelspec": {
   "display_name": "Python 3",
   "language": "python",
   "name": "python3"
  },
  "language_info": {
   "codemirror_mode": {
    "name": "ipython",
    "version": 3
   },
   "file_extension": ".py",
   "mimetype": "text/x-python",
   "name": "python",
   "nbconvert_exporter": "python",
   "pygments_lexer": "ipython3",
   "version": "3.7.3"
  }
 },
 "nbformat": 4,
 "nbformat_minor": 2
}
