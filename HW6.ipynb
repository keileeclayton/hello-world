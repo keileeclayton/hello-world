{
 "cells": [
  {
   "cell_type": "markdown",
   "metadata": {},
   "source": [
    "Homework 6\n",
    "Keilee Clayton"
   ]
  },
  {
   "cell_type": "code",
   "execution_count": 9,
   "metadata": {},
   "outputs": [
    {
     "name": "stdout",
     "output_type": "stream",
     "text": [
      "1\n",
      "2\n",
      "Fizz\n",
      "4\n",
      "Buzz\n",
      "Fizz\n",
      "7\n",
      "8\n",
      "Fizz\n",
      "Buzz\n",
      "11\n",
      "Fizz\n",
      "13\n",
      "14\n",
      "FizzBuzz\n",
      "16\n",
      "17\n",
      "Fizz\n",
      "19\n",
      "Buzz\n",
      "Fizz\n",
      "22\n",
      "23\n",
      "Fizz\n",
      "Buzz\n",
      "26\n",
      "Fizz\n",
      "28\n",
      "29\n",
      "FizzBuzz\n",
      "31\n",
      "32\n",
      "Fizz\n",
      "34\n",
      "Buzz\n",
      "Fizz\n",
      "37\n",
      "38\n",
      "Fizz\n",
      "Buzz\n",
      "41\n",
      "Fizz\n",
      "43\n",
      "44\n",
      "FizzBuzz\n",
      "46\n",
      "47\n",
      "Fizz\n",
      "49\n",
      "Buzz\n",
      "Fizz\n",
      "52\n",
      "53\n",
      "Fizz\n",
      "Buzz\n",
      "56\n",
      "Fizz\n",
      "58\n",
      "59\n",
      "FizzBuzz\n",
      "61\n",
      "62\n",
      "Fizz\n",
      "64\n",
      "Buzz\n",
      "Fizz\n",
      "67\n",
      "68\n",
      "Fizz\n",
      "Buzz\n",
      "71\n",
      "Fizz\n",
      "73\n",
      "74\n",
      "FizzBuzz\n",
      "76\n",
      "77\n",
      "Fizz\n",
      "79\n",
      "Buzz\n",
      "Fizz\n",
      "82\n",
      "83\n",
      "Fizz\n",
      "Buzz\n",
      "86\n",
      "Fizz\n",
      "88\n",
      "89\n",
      "FizzBuzz\n",
      "91\n",
      "92\n",
      "Fizz\n",
      "94\n",
      "Buzz\n",
      "Fizz\n",
      "97\n",
      "98\n",
      "Fizz\n",
      "Buzz\n"
     ]
    }
   ],
   "source": [
    "#fizzbuzz\n",
    "\n",
    "for n in range(1,101):\n",
    "\n",
    "    if n%3 == 0 and n%5 ==0:\n",
    "        print(\"FizzBuzz\")\n",
    "    elif n%5 ==0:\n",
    "        print(\"Buzz\")\n",
    "    elif n%3 ==0:\n",
    "        print(\"Fizz\")\n",
    "    else:\n",
    "        print(n)\n",
    "    \n",
    "    "
   ]
  },
  {
   "cell_type": "code",
   "execution_count": 55,
   "metadata": {},
   "outputs": [],
   "source": [
    "#heat capacity of a solid\n",
    "# A = .5h(cv(a+(k-1)h)+cv(a +k*h)) \n",
    "import numpy as np\n",
    "from math import exp \n",
    "\n",
    "V = 0.001 #m**3\n",
    "theta = 428 #K\n",
    "p = (6.022 *10**28) #m** -3\n",
    "k_b = (1.38 *10**(-23)) #J/K\n",
    "\n",
    "\n",
    "def heat_cap(T): \n",
    "    N=1000\n",
    "    a = 0\n",
    "    b = (theta)/T\n",
    "    h = (b-a)/N\n",
    "    \n",
    "    s = 0.5 *((b**4) * (np.e**(b)))/(((np.e**(b) -1)**2))\n",
    "\n",
    "    for k in range(1,N):\n",
    "        s += ((((a + k*h)**4) *(np.e**(a+ k*h)))/ (((np.e**(a + k*h) -1)**2)))\n",
    "    \n",
    "    c_v = h*s*(9*V*p*k_b*(T/theta)**3) \n",
    "    return(c_v)\n",
    "    for T in range(5,501):\n",
    "        a = [T]\n",
    "        b = [heat_cap(T)]\n"
   ]
  },
  {
   "cell_type": "code",
   "execution_count": 56,
   "metadata": {},
   "outputs": [
    {
     "data": {
      "text/plain": [
       "0.309748545726557"
      ]
     },
     "execution_count": 56,
     "metadata": {},
     "output_type": "execute_result"
    }
   ],
   "source": [
    "heat_cap(5)"
   ]
  },
  {
   "cell_type": "code",
   "execution_count": 58,
   "metadata": {},
   "outputs": [
    {
     "data": {
      "text/plain": [
       "Text(0, 0.5, 'Heat Capacity')"
      ]
     },
     "execution_count": 58,
     "metadata": {},
     "output_type": "execute_result"
    },
    {
     "data": {
      "image/png": "[encoded data removed]",
      "text/plain": [
       "<Figure size 432x288 with 1 Axes>"
      ]
     },
     "metadata": {
      "needs_background": "light"
     },
     "output_type": "display_data"
    }
   ],
   "source": [
    "from matplotlib import pyplot as plt\n",
    "import numpy as np\n",
    "\n",
    "temp = [ ]\n",
    "for x in range(5,501):\n",
    "    temp.append(x)\n",
    "temp\n",
    "    \n",
    "HC = []\n",
    "for x in range(5,501):\n",
    "    HC.append(heat_cap(x))\n",
    "HC\n",
    "\n",
    "fig = plt.figure()                           # makes a figure\n",
    "ax = fig.add_subplot(111)                    # make a 1,1,1 (single) figure\n",
    "ax.scatter(temp,HC,c='k',alpha=0.3)    # makes a scatter plot ( c = color, alpha = transparency)\n",
    "\n",
    "# add the labels\n",
    "ax.set_xlabel(\"Temperature\") \n",
    "ax.set_ylabel(\"Heat Capacity\")      "
   ]
  },
  {
   "cell_type": "code",
   "execution_count": null,
   "metadata": {},
   "outputs": [],
   "source": []
  }
 ],
 "metadata": {
  "kernelspec": {
   "display_name": "Python 3",
   "language": "python",
   "name": "python3"
  },
  "language_info": {
   "codemirror_mode": {
    "name": "ipython",
    "version": 3
   },
   "file_extension": ".py",
   "mimetype": "text/x-python",
   "name": "python",
   "nbconvert_exporter": "python",
   "pygments_lexer": "ipython3",
   "version": "3.7.3"
  }
 },
 "nbformat": 4,
 "nbformat_minor": 2
}
