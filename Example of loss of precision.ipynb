{
 "cells": [
  {
   "cell_type": "code",
   "execution_count": 54,
   "metadata": {},
   "outputs": [
    {
     "name": "stdout",
     "output_type": "stream",
     "text": [
      "0 -1.0\n",
      "10 -4.539786870243441e-05\n",
      "20 -2.061060046209063e-09\n",
      "30 -9.357198133414642e-14\n",
      "40 -4.248161380306793e-18\n",
      "50 -1.9286622828562893e-22\n",
      "60 -8.756113217722928e-27\n",
      "70 -3.9752692507698635e-31\n",
      "80 -1.8047694477191755e-35\n",
      "90 -8.19364061639291e-40\n",
      "100 -3.7199070848328135e-44\n"
     ]
    }
   ],
   "source": [
    "import numpy as np #inverse\n",
    "sn = 0\n",
    "n = 0\n",
    "for x in range(0,101,10):\n",
    "    for n in range(0,1000):\n",
    "        sn += (-((x**n)/(np.math.factorial(n))))\n",
    "        expx = 1/(sn)\n",
    "    print(x, expx)"
   ]
  },
  {
   "cell_type": "code",
   "execution_count": 29,
   "metadata": {},
   "outputs": [
    {
     "name": "stdout",
     "output_type": "stream",
     "text": [
      "0 -1.0\n",
      "10 -1.0000453999294334\n",
      "20 -1.0000454006606776\n",
      "30 -0.9999755049919131\n",
      "40 -1.1470264494805504\n",
      "50 7015.776232597128\n",
      "60 1223051118.0619795\n",
      "70 -15141759713408.848\n",
      "80 -6.772465846238849e+17\n",
      "90 7.884988118863822e+21\n",
      "100 2.8756582514726483e+26\n"
     ]
    }
   ],
   "source": [
    "import numpy as np #simple\n",
    "sn = 0\n",
    "n = 0\n",
    "for x in range(0,101,10):\n",
    "    for n in range(1000):\n",
    "        sn += ((-1)**n) * (-((x**n)/(np.math.factorial(n))))\n",
    "    print(x, sn)\n"
   ]
  },
  {
   "cell_type": "code",
   "execution_count": 27,
   "metadata": {},
   "outputs": [
    {
     "name": "stdout",
     "output_type": "stream",
     "text": [
      "0 1.0\n",
      "10 4.539992967040021e-05\n",
      "20 6.147561828914626e-09\n",
      "30 6.1030424788918156e-06\n",
      "40 0.3116951588217358\n",
      "50 2041.8329628976246\n",
      "60 722745700.9303185\n",
      "70 4594081207253.4\n",
      "80 2.4508201170456323e+17\n",
      "90 -5.865799310261735e+21\n",
      "100 8.144652745098073e+25\n"
     ]
    }
   ],
   "source": [
    "import numpy as np #recursion\n",
    "sn = 0\n",
    "n = 0\n",
    "\n",
    "def sn(n,x): #defining sn\n",
    "    if (n==0): #if n is zero its equal to one \n",
    "        return 1\n",
    "    else:\n",
    "        return sn((n-1),x)*(-1*(x/n))\n",
    "\n",
    "for x in range(0,101,10):\n",
    "    sm = 0\n",
    "    for n in range(1000):\n",
    "        sm += sn(n,x)\n",
    "    print(x,sm)\n"
   ]
  },
  {
   "cell_type": "code",
   "execution_count": 30,
   "metadata": {},
   "outputs": [
    {
     "name": "stdout",
     "output_type": "stream",
     "text": [
      "Enter a value for period in minutes: 90\n",
      "The height is 279.32162537285967  km\n"
     ]
    }
   ],
   "source": [
    "#the altitude h above the Earths surface that the satellite must have is\n",
    "from math import pi\n",
    "import numpy as np\n",
    "T = int(input(\"Enter a value for period in minutes: \"))\n",
    "\n",
    "G = 6.67*(10**-11) #(m**3*kg**-1*s**-2)\n",
    "M = 5.97*(10**24) #kg\n",
    "R = 6371.0 #km \n",
    "def height (P):\n",
    "     return ((((G)*M*((P*60)**2))/(4*np.math.pi**2))**(1/3)) -R*(10**3)\n",
    "\n",
    "print(\"The height is\", ((10**-3)*height(T)), \" km\")\n"
   ]
  },
  {
   "cell_type": "code",
   "execution_count": null,
   "metadata": {},
   "outputs": [],
   "source": []
  }
 ],
 "metadata": {
  "kernelspec": {
   "display_name": "Python 3",
   "language": "python",
   "name": "python3"
  },
  "language_info": {
   "codemirror_mode": {
    "name": "ipython",
    "version": 3
   },
   "file_extension": ".py",
   "mimetype": "text/x-python",
   "name": "python",
   "nbconvert_exporter": "python",
   "pygments_lexer": "ipython3",
   "version": "3.7.3"
  }
 },
 "nbformat": 4,
 "nbformat_minor": 2
}
