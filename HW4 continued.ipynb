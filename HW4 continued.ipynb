{
 "cells": [
  {
   "cell_type": "markdown",
   "metadata": {},
   "source": [
    "HW 4 \n",
    "Keilee Clayton"
   ]
  },
  {
   "cell_type": "code",
   "execution_count": 5,
   "metadata": {},
   "outputs": [
    {
     "name": "stdout",
     "output_type": "stream",
     "text": [
      "a: 640000 b: 100000 quotient_ab:  (6, 40000)\n",
      "b is big: True\n"
     ]
    }
   ],
   "source": [
    "#Finding bugs\n",
    "\n",
    "def quotient(int_1, int_2):\n",
    "    return((int_1 // int_2, int_1 % int_2))\n",
    "def largenum(num):\n",
    "    return(num > 10000)\n",
    "\n",
    "a = 640000\n",
    "b = 100000\n",
    "\n",
    "num_n = quotient(a,b)\n",
    "quotient_ab = num_n\n",
    "\n",
    "print(\"a:\", a, \"b:\", b,\"quotient_ab: \", quotient_ab)\n",
    "big = largenum(b)\n",
    "print(\"b is big:\", big)"
   ]
  },
  {
   "cell_type": "code",
   "execution_count": null,
   "metadata": {},
   "outputs": [],
   "source": []
  }
 ],
 "metadata": {
  "kernelspec": {
   "display_name": "Python 3",
   "language": "python",
   "name": "python3"
  },
  "language_info": {
   "codemirror_mode": {
    "name": "ipython",
    "version": 3
   },
   "file_extension": ".py",
   "mimetype": "text/x-python",
   "name": "python",
   "nbconvert_exporter": "python",
   "pygments_lexer": "ipython3",
   "version": "3.7.3"
  }
 },
 "nbformat": 4,
 "nbformat_minor": 2
}
