{
 "cells": [
  {
   "cell_type": "markdown",
   "metadata": {},
   "source": [
    "HW 5\n",
    "Keilee CLayton"
   ]
  },
  {
   "cell_type": "code",
   "execution_count": 10,
   "metadata": {},
   "outputs": [
    {
     "name": "stdout",
     "output_type": "stream",
     "text": [
      "Enter a value for a: 1000\n",
      "Enter a value for b: 100\n",
      "Enter a value for c: 1\n",
      "-0.011270166537925832\n",
      "-0.08872983346207416\n",
      "0.0\n",
      "8.881784197001252e-16\n"
     ]
    }
   ],
   "source": [
    "#part1A\n",
    "#takes input three numbers, prints out two variations of quadratic eq\n",
    "#using standard eq of ax**2 + bx + c = 0 \n",
    "\n",
    "from math import sqrt\n",
    "import numpy as np\n",
    "\n",
    "a = float(input(\"Enter a value for a: \"))\n",
    "b = float(input(\"Enter a value for b: \"))\n",
    "c = float(input(\"Enter a value for c: \"))\n",
    "\n",
    "def quad(a,b,c):\n",
    "    return(a*x**2 + b*x +c == 0) \n",
    "\n",
    "x = (-b + (b**2 - (4*a*c))**(1/2))/ (2*a)\n",
    "print(x)\n",
    "\n",
    "x2 = (-b - (b**2 - (4*a*c))**(1/2))/ (2*a)\n",
    "print(x2)\n",
    "\n",
    "print(a*x**2 + b*x +c)\n",
    "print(a*x2**2 + b*x2 +c)"
   ]
  },
  {
   "cell_type": "code",
   "execution_count": 11,
   "metadata": {},
   "outputs": [
    {
     "name": "stdout",
     "output_type": "stream",
     "text": [
      "Enter a value for a: 1000\n",
      "Enter a value for b: 100\n",
      "Enter a value for c: 1\n",
      "-0.01127016653792583\n",
      "-0.08872983346207416\n",
      "1.1102230246251565e-16\n",
      "8.881784197001252e-16\n"
     ]
    }
   ],
   "source": [
    "#part1B\n",
    "#multiplying top and bottom of solutions by (-b +- (b**2 - (4*a*c))**(1/2))\n",
    "\n",
    "from math import sqrt\n",
    "import numpy as np\n",
    "\n",
    "a = float(input(\"Enter a value for a: \"))\n",
    "b = float(input(\"Enter a value for b: \"))\n",
    "c = float(input(\"Enter a value for c: \"))\n",
    "\n",
    "def quad(a,b,c):\n",
    "    return(a*y**2 + b*y +c == 0) \n",
    "\n",
    "y = ((2*c)/(-b - (b**2 - (4*a*c))**(1/2)))\n",
    "print(y)\n",
    "\n",
    "y_2 = (2*c)/(-b + (b**2 - (4*a*c))**(1/2))\n",
    "print(y_2)\n",
    "\n",
    "print(a*y**2 + b*y +c) #to check how close it is to zero with found value\n",
    "print(a*y_2**2 + b*y_2 +c)"
   ]
  },
  {
   "cell_type": "code",
   "execution_count": 9,
   "metadata": {},
   "outputs": [
    {
     "name": "stdout",
     "output_type": "stream",
     "text": [
      "Enter a value for a: 1000\n",
      "Enter a value for b: 100\n",
      "Enter a value for c: 1\n",
      "-0.011270166537925832 -0.08872983346207416\n"
     ]
    }
   ],
   "source": [
    "from math import sqrt\n",
    "import numpy as np\n",
    "\n",
    "a = float(input(\"Enter a value for a: \"))\n",
    "b = float(input(\"Enter a value for b: \"))\n",
    "c = float(input(\"Enter a value for c: \"))\n",
    "\n",
    "def quad(a,b,c):\n",
    "    return(a*y**2 + b*y +c == 0) \n",
    "\n",
    "y = ((2*c)/(-b - (b**2 - (4*a*c))**(1/2)))\n",
    "y2 = (2*c)/(-b + (b**2 - (4*a*c))**(1/2))\n",
    "\n",
    "x = (-b + (b**2 - (4*a*c))**(1/2))/ (2*a)\n",
    "x2 = (-b - (b**2 - (4*a*c))**(1/2))/ (2*a)\n",
    "\n",
    "if c == 0:\n",
    "    print(x,x2)\n",
    "elif b<0:\n",
    "    print(x,y2)\n",
    "elif b < (4*a*c):\n",
    "    print(x,y2)\n",
    "else:\n",
    "    print(y,x2)\n",
    "    \n"
   ]
  },
  {
   "cell_type": "code",
   "execution_count": null,
   "metadata": {},
   "outputs": [],
   "source": [
    "#2\n",
    "#semi-empirical mass formula\n",
    "#approx nuclear binding energy (B) with atomic number (Z) and mass (A)\n",
    "\n",
    "import numpy as np\n",
    "\n",
    "atom_numb = int(input(\"Enter atomic number Z: \"))\n",
    "atom_mass = int(input(\"Enter mass number A: \"))\n",
    "\n",
    "a1= 15.67\n",
    "a2= 17.23\n",
    "a3= 0.75\n",
    "a4= 93.2\n",
    "\n",
    "def nucbinding_energy(Z,A): #defining the function\n",
    "    return (a1*(A) - a2*((A)**(2/3)) - a3*((Z**2)/(A**(1/3))) - a4*(((A- 2*Z)**2)/A) - (a5)/(A**(1/2)))\n",
    "\n",
    "if atom_mass %2 ==0 and atom_numb%2 == 0: #if Z and A even \n",
    "        a5 = 12.0\n",
    "elif atom_mass%2 ==0 and atom_numb%2 >0:  #if A is even and Z is odd\n",
    "        a5 = -12.0\n",
    "else:                   #if A is odd a5 is 0\n",
    "        a5 = 0\n",
    "print(a5)\n",
    "\n",
    "B = nucbinding_energy(atom_numb,atom_mass) #cant use Z and A here, it would override\n",
    "\n",
    "print(\"The binding energy is\",B, \"MeV.\")\n",
    "\n",
    "n = B/atom_mass\n",
    "print(\"The binding energy per nucleon is\",n)\n",
    "\n"
   ]
  },
  {
   "cell_type": "code",
   "execution_count": null,
   "metadata": {},
   "outputs": [],
   "source": []
  },
  {
   "cell_type": "code",
   "execution_count": null,
   "metadata": {},
   "outputs": [],
   "source": []
  }
 ],
 "metadata": {
  "kernelspec": {
   "display_name": "Python 3",
   "language": "python",
   "name": "python3"
  },
  "language_info": {
   "codemirror_mode": {
    "name": "ipython",
    "version": 3
   },
   "file_extension": ".py",
   "mimetype": "text/x-python",
   "name": "python",
   "nbconvert_exporter": "python",
   "pygments_lexer": "ipython3",
   "version": "3.7.3"
  }
 },
 "nbformat": 4,
 "nbformat_minor": 2
}
